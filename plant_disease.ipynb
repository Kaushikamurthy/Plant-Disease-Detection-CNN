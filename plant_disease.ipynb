{
 "cells": [
  {
   "cell_type": "code",
   "execution_count": 3,
   "id": "752abd2b-e0c1-4de5-8ae7-b41c254d1c7a",
   "metadata": {},
   "outputs": [
    {
     "name": "stdout",
     "output_type": "stream",
     "text": [
      "Collecting opencv-python"
     ]
    },
    {
     "name": "stderr",
     "output_type": "stream",
     "text": [
      "\n",
      "[notice] A new release of pip is available: 24.2 -> 25.0.1\n",
      "[notice] To update, run: python.exe -m pip install --upgrade pip\n"
     ]
    },
    {
     "name": "stdout",
     "output_type": "stream",
     "text": [
      "\n",
      "  Downloading opencv_python-4.11.0.86-cp37-abi3-win_amd64.whl.metadata (20 kB)\n",
      "Requirement already satisfied: numpy>=1.21.2 in c:\\users\\user\\appdata\\local\\programs\\python\\python312\\lib\\site-packages (from opencv-python) (2.2.2)\n",
      "Downloading opencv_python-4.11.0.86-cp37-abi3-win_amd64.whl (39.5 MB)\n",
      "   ---------------------------------------- 0.0/39.5 MB ? eta -:--:--\n",
      "   ---------------------------------------- 0.3/39.5 MB ? eta -:--:--\n",
      "    --------------------------------------- 0.8/39.5 MB 2.6 MB/s eta 0:00:15\n",
      "    --------------------------------------- 0.8/39.5 MB 2.6 MB/s eta 0:00:15\n",
      "   - -------------------------------------- 1.6/39.5 MB 2.0 MB/s eta 0:00:19\n",
      "   -- ------------------------------------- 2.1/39.5 MB 2.2 MB/s eta 0:00:18\n",
      "   -- ------------------------------------- 2.9/39.5 MB 2.3 MB/s eta 0:00:16\n",
      "   --- ------------------------------------ 3.4/39.5 MB 2.4 MB/s eta 0:00:16\n",
      "   --- ------------------------------------ 3.7/39.5 MB 2.4 MB/s eta 0:00:16\n",
      "   --- ------------------------------------ 3.7/39.5 MB 2.4 MB/s eta 0:00:16\n",
      "   --- ------------------------------------ 3.9/39.5 MB 2.0 MB/s eta 0:00:18\n",
      "   ---- ----------------------------------- 4.2/39.5 MB 1.9 MB/s eta 0:00:19\n",
      "   ----- ---------------------------------- 5.0/39.5 MB 2.0 MB/s eta 0:00:18\n",
      "   ----- ---------------------------------- 5.2/39.5 MB 2.0 MB/s eta 0:00:18\n",
      "   ----- ---------------------------------- 5.5/39.5 MB 2.0 MB/s eta 0:00:18\n",
      "   ----- ---------------------------------- 5.8/39.5 MB 1.9 MB/s eta 0:00:18\n",
      "   ------ --------------------------------- 6.3/39.5 MB 1.9 MB/s eta 0:00:18\n",
      "   ------ --------------------------------- 6.8/39.5 MB 1.9 MB/s eta 0:00:17\n",
      "   ------- -------------------------------- 7.6/39.5 MB 2.0 MB/s eta 0:00:16\n",
      "   -------- ------------------------------- 8.1/39.5 MB 2.0 MB/s eta 0:00:16\n",
      "   -------- ------------------------------- 8.7/39.5 MB 2.1 MB/s eta 0:00:15\n",
      "   --------- ------------------------------ 9.2/39.5 MB 2.1 MB/s eta 0:00:15\n",
      "   --------- ------------------------------ 9.7/39.5 MB 2.1 MB/s eta 0:00:15\n",
      "   ---------- ----------------------------- 10.2/39.5 MB 2.1 MB/s eta 0:00:14\n",
      "   ---------- ----------------------------- 10.7/39.5 MB 2.2 MB/s eta 0:00:14\n",
      "   ----------- ---------------------------- 11.3/39.5 MB 2.2 MB/s eta 0:00:14\n",
      "   ----------- ---------------------------- 11.5/39.5 MB 2.2 MB/s eta 0:00:13\n",
      "   ------------ --------------------------- 12.1/39.5 MB 2.2 MB/s eta 0:00:13\n",
      "   ------------ --------------------------- 12.6/39.5 MB 2.1 MB/s eta 0:00:13\n",
      "   ------------- -------------------------- 13.1/39.5 MB 2.2 MB/s eta 0:00:13\n",
      "   ------------- -------------------------- 13.6/39.5 MB 2.2 MB/s eta 0:00:12\n",
      "   -------------- ------------------------- 14.2/39.5 MB 2.2 MB/s eta 0:00:12\n",
      "   -------------- ------------------------- 14.4/39.5 MB 2.2 MB/s eta 0:00:12\n",
      "   --------------- ------------------------ 14.9/39.5 MB 2.2 MB/s eta 0:00:12\n",
      "   --------------- ------------------------ 15.5/39.5 MB 2.2 MB/s eta 0:00:11\n",
      "   ---------------- ----------------------- 16.0/39.5 MB 2.2 MB/s eta 0:00:11\n",
      "   ---------------- ----------------------- 16.5/39.5 MB 2.2 MB/s eta 0:00:11\n",
      "   ---------------- ----------------------- 16.8/39.5 MB 2.2 MB/s eta 0:00:11\n",
      "   ----------------- ---------------------- 17.0/39.5 MB 2.1 MB/s eta 0:00:11\n",
      "   ----------------- ---------------------- 17.3/39.5 MB 2.1 MB/s eta 0:00:11\n",
      "   ----------------- ---------------------- 17.6/39.5 MB 2.1 MB/s eta 0:00:11\n",
      "   ------------------ --------------------- 17.8/39.5 MB 2.1 MB/s eta 0:00:11\n",
      "   ------------------ --------------------- 18.4/39.5 MB 2.1 MB/s eta 0:00:11\n",
      "   ------------------ --------------------- 18.4/39.5 MB 2.1 MB/s eta 0:00:11\n",
      "   ------------------- -------------------- 18.9/39.5 MB 2.1 MB/s eta 0:00:11\n",
      "   ------------------- -------------------- 19.7/39.5 MB 2.1 MB/s eta 0:00:10\n",
      "   -------------------- ------------------- 20.2/39.5 MB 2.1 MB/s eta 0:00:10\n",
      "   -------------------- ------------------- 20.7/39.5 MB 2.1 MB/s eta 0:00:09\n",
      "   --------------------- ------------------ 21.0/39.5 MB 2.1 MB/s eta 0:00:09\n",
      "   ---------------------- ----------------- 21.8/39.5 MB 2.1 MB/s eta 0:00:09\n",
      "   ---------------------- ----------------- 22.3/39.5 MB 2.1 MB/s eta 0:00:09\n",
      "   ----------------------- ---------------- 22.8/39.5 MB 2.2 MB/s eta 0:00:08\n",
      "   ----------------------- ---------------- 23.3/39.5 MB 2.2 MB/s eta 0:00:08\n",
      "   ------------------------ --------------- 24.1/39.5 MB 2.2 MB/s eta 0:00:08\n",
      "   ------------------------ --------------- 24.6/39.5 MB 2.2 MB/s eta 0:00:07\n",
      "   ------------------------- -------------- 25.2/39.5 MB 2.2 MB/s eta 0:00:07\n",
      "   -------------------------- ------------- 26.0/39.5 MB 2.2 MB/s eta 0:00:07\n",
      "   -------------------------- ------------- 26.5/39.5 MB 2.2 MB/s eta 0:00:06\n",
      "   --------------------------- ------------ 27.0/39.5 MB 2.2 MB/s eta 0:00:06\n",
      "   --------------------------- ------------ 27.5/39.5 MB 2.2 MB/s eta 0:00:06\n",
      "   ---------------------------- ----------- 28.0/39.5 MB 2.2 MB/s eta 0:00:06\n",
      "   ---------------------------- ----------- 28.6/39.5 MB 2.2 MB/s eta 0:00:05\n",
      "   ----------------------------- ---------- 29.1/39.5 MB 2.3 MB/s eta 0:00:05\n",
      "   ------------------------------ --------- 29.6/39.5 MB 2.2 MB/s eta 0:00:05\n",
      "   ------------------------------ --------- 29.9/39.5 MB 2.2 MB/s eta 0:00:05\n",
      "   ------------------------------ --------- 30.4/39.5 MB 2.2 MB/s eta 0:00:05\n",
      "   ------------------------------- -------- 31.2/39.5 MB 2.3 MB/s eta 0:00:04\n",
      "   -------------------------------- ------- 31.7/39.5 MB 2.3 MB/s eta 0:00:04\n",
      "   -------------------------------- ------- 32.2/39.5 MB 2.3 MB/s eta 0:00:04\n",
      "   --------------------------------- ------ 32.8/39.5 MB 2.3 MB/s eta 0:00:03\n",
      "   --------------------------------- ------ 33.0/39.5 MB 2.3 MB/s eta 0:00:03\n",
      "   --------------------------------- ------ 33.6/39.5 MB 2.3 MB/s eta 0:00:03\n",
      "   ---------------------------------- ----- 33.8/39.5 MB 2.3 MB/s eta 0:00:03\n",
      "   ---------------------------------- ----- 33.8/39.5 MB 2.3 MB/s eta 0:00:03\n",
      "   ---------------------------------- ----- 34.3/39.5 MB 2.2 MB/s eta 0:00:03\n",
      "   ----------------------------------- ---- 34.6/39.5 MB 2.2 MB/s eta 0:00:03\n",
      "   ----------------------------------- ---- 34.9/39.5 MB 2.2 MB/s eta 0:00:03\n",
      "   ----------------------------------- ---- 35.1/39.5 MB 2.2 MB/s eta 0:00:02\n",
      "   ------------------------------------ --- 35.9/39.5 MB 2.2 MB/s eta 0:00:02\n",
      "   ------------------------------------ --- 36.4/39.5 MB 2.2 MB/s eta 0:00:02\n",
      "   ------------------------------------- -- 36.7/39.5 MB 2.2 MB/s eta 0:00:02\n",
      "   ------------------------------------- -- 37.5/39.5 MB 2.2 MB/s eta 0:00:01\n",
      "   -------------------------------------- - 38.0/39.5 MB 2.2 MB/s eta 0:00:01\n",
      "   ---------------------------------------  38.5/39.5 MB 2.2 MB/s eta 0:00:01\n",
      "   ---------------------------------------  39.1/39.5 MB 2.2 MB/s eta 0:00:01\n",
      "   ---------------------------------------- 39.5/39.5 MB 2.2 MB/s eta 0:00:00\n",
      "Installing collected packages: opencv-python\n",
      "Successfully installed opencv-python-4.11.0.86\n"
     ]
    }
   ],
   "source": [
    "!pip install opencv-python\n"
   ]
  },
  {
   "cell_type": "code",
   "execution_count": 5,
   "id": "62526141-e69e-44bc-b9c2-a0ac56acad9a",
   "metadata": {},
   "outputs": [
    {
     "name": "stdout",
     "output_type": "stream",
     "text": [
      "Collecting tqdm\n",
      "  Downloading tqdm-4.67.1-py3-none-any.whl.metadata (57 kB)\n",
      "Requirement already satisfied: colorama in c:\\users\\user\\appdata\\local\\programs\\python\\python312\\lib\\site-packages (from tqdm) (0.4.6)\n",
      "Downloading tqdm-4.67.1-py3-none-any.whl (78 kB)\n",
      "Installing collected packages: tqdm\n",
      "Successfully installed tqdm-4.67.1\n",
      "Note: you may need to restart the kernel to use updated packages.\n"
     ]
    },
    {
     "name": "stderr",
     "output_type": "stream",
     "text": [
      "\n",
      "[notice] A new release of pip is available: 24.2 -> 25.0.1\n",
      "[notice] To update, run: python.exe -m pip install --upgrade pip\n"
     ]
    }
   ],
   "source": [
    "pip install tqdm\n"
   ]
  },
  {
   "cell_type": "code",
   "execution_count": 2,
   "id": "12f2a384-3bfe-45d3-b9a8-e93fde73a49d",
   "metadata": {},
   "outputs": [],
   "source": [
    "import os\n",
    "import numpy as np\n",
    "import pickle \n",
    "import cv2\n",
    "import matplotlib.pyplot as plt\n",
    "import seaborn as sns\n",
    "from tqdm import tqdm"
   ]
  },
  {
   "cell_type": "code",
   "execution_count": 3,
   "id": "3c997790-845f-4c78-9d07-5248d038fb7c",
   "metadata": {},
   "outputs": [],
   "source": [
    "TRAIN_PATH = r\"C:\\Users\\user\\Desktop\\guvi\\plant disease\\data\\New Plant Diseases Dataset(Augmented)\\New Plant Diseases Dataset(Augmented)\\train\"\n",
    "VALID_PATH = r\"C:\\Users\\user\\Desktop\\guvi\\plant disease\\data\\New Plant Diseases Dataset(Augmented)\\New Plant Diseases Dataset(Augmented)\\valid\"\n",
    "IMG_SIZE = (224, 224) \n",
    "BATCH_SIZE = 5000"
   ]
  },
  {
   "cell_type": "code",
   "execution_count": 4,
   "id": "e59f9eb4-734c-4c8d-96df-1502dff4424d",
   "metadata": {},
   "outputs": [
    {
     "name": "stdout",
     "output_type": "stream",
     "text": [
      "Processing images from C:\\Users\\user\\Desktop\\guvi\\plant disease\\data\\New Plant Diseases Dataset(Augmented)\\New Plant Diseases Dataset(Augmented)\\train in batches...\n"
     ]
    },
    {
     "name": "stderr",
     "output_type": "stream",
     "text": [
      "  5%|████▎                                                                              | 2/38 [00:36<11:00, 18.35s/it]"
     ]
    },
    {
     "name": "stdout",
     "output_type": "stream",
     "text": [
      "Saved processed data batch to train_cnn_batch_1.pkl\n"
     ]
    },
    {
     "name": "stderr",
     "output_type": "stream",
     "text": [
      " 13%|██████████▉                                                                        | 5/38 [02:03<13:00, 23.65s/it]"
     ]
    },
    {
     "name": "stdout",
     "output_type": "stream",
     "text": [
      "Saved processed data batch to train_cnn_batch_2.pkl\n"
     ]
    },
    {
     "name": "stderr",
     "output_type": "stream",
     "text": [
      " 21%|█████████████████▍                                                                 | 8/38 [03:28<12:00, 24.02s/it]"
     ]
    },
    {
     "name": "stdout",
     "output_type": "stream",
     "text": [
      "Saved processed data batch to train_cnn_batch_3.pkl\n"
     ]
    },
    {
     "name": "stderr",
     "output_type": "stream",
     "text": [
      " 26%|█████████████████████▌                                                            | 10/38 [04:40<13:21, 28.63s/it]"
     ]
    },
    {
     "name": "stdout",
     "output_type": "stream",
     "text": [
      "Saved processed data batch to train_cnn_batch_4.pkl\n"
     ]
    },
    {
     "name": "stderr",
     "output_type": "stream",
     "text": [
      " 34%|████████████████████████████                                                      | 13/38 [06:09<11:05, 26.64s/it]"
     ]
    },
    {
     "name": "stdout",
     "output_type": "stream",
     "text": [
      "Saved processed data batch to train_cnn_batch_5.pkl\n"
     ]
    },
    {
     "name": "stderr",
     "output_type": "stream",
     "text": [
      " 42%|██████████████████████████████████▌                                               | 16/38 [07:30<09:07, 24.91s/it]"
     ]
    },
    {
     "name": "stdout",
     "output_type": "stream",
     "text": [
      "Saved processed data batch to train_cnn_batch_6.pkl\n"
     ]
    },
    {
     "name": "stderr",
     "output_type": "stream",
     "text": [
      " 47%|██████████████████████████████████████▊                                           | 18/38 [08:37<09:11, 27.57s/it]"
     ]
    },
    {
     "name": "stdout",
     "output_type": "stream",
     "text": [
      "Saved processed data batch to train_cnn_batch_7.pkl\n"
     ]
    },
    {
     "name": "stderr",
     "output_type": "stream",
     "text": [
      " 55%|█████████████████████████████████████████████▎                                    | 21/38 [10:07<07:32, 26.59s/it]"
     ]
    },
    {
     "name": "stdout",
     "output_type": "stream",
     "text": [
      "Saved processed data batch to train_cnn_batch_8.pkl\n"
     ]
    },
    {
     "name": "stderr",
     "output_type": "stream",
     "text": [
      " 63%|███████████████████████████████████████████████████▊                              | 24/38 [11:32<05:51, 25.09s/it]"
     ]
    },
    {
     "name": "stdout",
     "output_type": "stream",
     "text": [
      "Saved processed data batch to train_cnn_batch_9.pkl\n"
     ]
    },
    {
     "name": "stderr",
     "output_type": "stream",
     "text": [
      " 68%|████████████████████████████████████████████████████████                          | 26/38 [12:40<05:37, 28.13s/it]"
     ]
    },
    {
     "name": "stdout",
     "output_type": "stream",
     "text": [
      "Saved processed data batch to train_cnn_batch_10.pkl\n"
     ]
    },
    {
     "name": "stderr",
     "output_type": "stream",
     "text": [
      " 76%|██████████████████████████████████████████████████████████████▌                   | 29/38 [13:59<03:43, 24.79s/it]"
     ]
    },
    {
     "name": "stdout",
     "output_type": "stream",
     "text": [
      "Saved processed data batch to train_cnn_batch_11.pkl\n"
     ]
    },
    {
     "name": "stderr",
     "output_type": "stream",
     "text": [
      " 84%|█████████████████████████████████████████████████████████████████████             | 32/38 [15:27<02:31, 25.26s/it]"
     ]
    },
    {
     "name": "stdout",
     "output_type": "stream",
     "text": [
      "Saved processed data batch to train_cnn_batch_12.pkl\n"
     ]
    },
    {
     "name": "stderr",
     "output_type": "stream",
     "text": [
      " 92%|███████████████████████████████████████████████████████████████████████████▌      | 35/38 [16:53<01:14, 24.86s/it]"
     ]
    },
    {
     "name": "stdout",
     "output_type": "stream",
     "text": [
      "Saved processed data batch to train_cnn_batch_13.pkl\n"
     ]
    },
    {
     "name": "stderr",
     "output_type": "stream",
     "text": [
      " 97%|███████████████████████████████████████████████████████████████████████████████▊  | 37/38 [18:08<00:29, 29.42s/it]"
     ]
    },
    {
     "name": "stdout",
     "output_type": "stream",
     "text": [
      "Saved processed data batch to train_cnn_batch_14.pkl\n"
     ]
    },
    {
     "name": "stderr",
     "output_type": "stream",
     "text": [
      "100%|██████████████████████████████████████████████████████████████████████████████████| 38/38 [18:57<00:00, 29.92s/it]\n"
     ]
    },
    {
     "name": "stdout",
     "output_type": "stream",
     "text": [
      "Saved processed data batch to train_cnn_batch_15.pkl\n",
      "Saved all batches to disk for train_cnn.\n",
      "Processing images from C:\\Users\\user\\Desktop\\guvi\\plant disease\\data\\New Plant Diseases Dataset(Augmented)\\New Plant Diseases Dataset(Augmented)\\valid in batches...\n"
     ]
    },
    {
     "name": "stderr",
     "output_type": "stream",
     "text": [
      " 26%|█████████████████████▌                                                            | 10/38 [00:43<02:01,  4.33s/it]"
     ]
    },
    {
     "name": "stdout",
     "output_type": "stream",
     "text": [
      "Saved processed data batch to ready_for_plant_valid_cnn_batch_1.pkl\n"
     ]
    },
    {
     "name": "stderr",
     "output_type": "stream",
     "text": [
      " 55%|█████████████████████████████████████████████▎                                    | 21/38 [01:55<01:19,  4.66s/it]"
     ]
    },
    {
     "name": "stdout",
     "output_type": "stream",
     "text": [
      "Saved processed data batch to ready_for_plant_valid_cnn_batch_2.pkl\n"
     ]
    },
    {
     "name": "stderr",
     "output_type": "stream",
     "text": [
      " 84%|█████████████████████████████████████████████████████████████████████             | 32/38 [03:22<00:28,  4.70s/it]"
     ]
    },
    {
     "name": "stdout",
     "output_type": "stream",
     "text": [
      "Saved processed data batch to ready_for_plant_valid_cnn_batch_3.pkl\n"
     ]
    },
    {
     "name": "stderr",
     "output_type": "stream",
     "text": [
      "100%|██████████████████████████████████████████████████████████████████████████████████| 38/38 [04:15<00:00,  6.72s/it]\n"
     ]
    },
    {
     "name": "stdout",
     "output_type": "stream",
     "text": [
      "Saved processed data batch to ready_for_plant_valid_cnn_batch_4.pkl\n",
      "Saved all batches to disk for ready_for_plant_valid_cnn.\n"
     ]
    }
   ],
   "source": [
    "def load_and_preprocess_data_in_batches(data_path, output_file):\n",
    "    images = []\n",
    "    labels = []\n",
    "    class_names = []\n",
    "    classes = sorted(os.listdir(data_path))\n",
    "    class_to_label = {class_name: idx for idx, class_name in enumerate(classes)}\n",
    "    print(f\"Processing images from {data_path} in batches...\")\n",
    "    batch_counter = 0\n",
    "    for class_name in tqdm(classes):\n",
    "        class_names.append(class_name)\n",
    "        class_path = os.path.join(data_path, class_name)\n",
    "        for img_name in os.listdir(class_path):\n",
    "            img_path = os.path.join(class_path, img_name)\n",
    "            img = cv2.imread(img_path)\n",
    "            if img is None:\n",
    "                continue\n",
    "            img = cv2.cvtColor(img, cv2.COLOR_BGR2RGB)\n",
    "            img = cv2.resize(img, IMG_SIZE)  \n",
    "            img = img.astype(np.float32) / 255.0  # Normalize to float32\n",
    "            images.append(img)\n",
    "            labels.append(class_to_label[class_name])\n",
    "            if len(images) == BATCH_SIZE:\n",
    "                batch_counter += 1\n",
    "                batch_filename = f\"{output_file}_batch_{batch_counter}.pkl\"\n",
    "                save_processed_data(images, labels, batch_filename)\n",
    "                images.clear()\n",
    "                labels.clear()\n",
    "    if images:\n",
    "        batch_counter += 1\n",
    "        batch_filename = f\"{output_file}_batch_{batch_counter}.pkl\"\n",
    "        save_processed_data(images, labels, batch_filename)\n",
    "\n",
    "    print(f\"Saved all batches to disk for {output_file}.\")\n",
    "    return class_names, class_to_label\n",
    "def save_processed_data(images, labels, filename):\n",
    "    data = {\n",
    "        'images': images,\n",
    "        'labels': labels\n",
    "    }\n",
    "    with open(filename, 'wb') as f:\n",
    "        pickle.dump(data, f)\n",
    "    print(f\"Saved processed data batch to {filename}\")\n",
    "def main():\n",
    "    train_class_names, class_to_label = load_and_preprocess_data_in_batches(TRAIN_PATH, 'train_cnn')\n",
    "    valid_class_names, _ = load_and_preprocess_data_in_batches(VALID_PATH, 'ready_for_plant_valid_cnn')\n",
    "    \n",
    "if __name__ == \"__main__\":\n",
    "    main()"
   ]
  },
  {
   "cell_type": "code",
   "execution_count": 5,
   "id": "67a98a36-001a-4b7f-af87-a59cfb71b654",
   "metadata": {},
   "outputs": [
    {
     "name": "stdout",
     "output_type": "stream",
     "text": [
      "Requirement already satisfied: torch in c:\\users\\user\\appdata\\local\\programs\\python\\python312\\lib\\site-packages (2.6.0)\n",
      "Requirement already satisfied: torchvision in c:\\users\\user\\appdata\\local\\programs\\python\\python312\\lib\\site-packages (0.21.0)\n",
      "Requirement already satisfied: torchaudio in c:\\users\\user\\appdata\\local\\programs\\python\\python312\\lib\\site-packages (2.6.0)\n",
      "Requirement already satisfied: filelock in c:\\users\\user\\appdata\\local\\programs\\python\\python312\\lib\\site-packages (from torch) (3.17.0)\n",
      "Requirement already satisfied: typing-extensions>=4.10.0 in c:\\users\\user\\appdata\\local\\programs\\python\\python312\\lib\\site-packages (from torch) (4.12.2)\n",
      "Requirement already satisfied: networkx in c:\\users\\user\\appdata\\local\\programs\\python\\python312\\lib\\site-packages (from torch) (3.4.2)\n",
      "Requirement already satisfied: jinja2 in c:\\users\\user\\appdata\\local\\programs\\python\\python312\\lib\\site-packages (from torch) (3.1.5)\n",
      "Requirement already satisfied: fsspec in c:\\users\\user\\appdata\\local\\programs\\python\\python312\\lib\\site-packages (from torch) (2025.3.0)\n",
      "Requirement already satisfied: setuptools in c:\\users\\user\\appdata\\local\\programs\\python\\python312\\lib\\site-packages (from torch) (75.8.0)\n",
      "Requirement already satisfied: sympy==1.13.1 in c:\\users\\user\\appdata\\local\\programs\\python\\python312\\lib\\site-packages (from torch) (1.13.1)\n",
      "Requirement already satisfied: mpmath<1.4,>=1.1.0 in c:\\users\\user\\appdata\\local\\programs\\python\\python312\\lib\\site-packages (from sympy==1.13.1->torch) (1.3.0)\n",
      "Requirement already satisfied: numpy in c:\\users\\user\\appdata\\local\\programs\\python\\python312\\lib\\site-packages (from torchvision) (2.2.2)\n",
      "Requirement already satisfied: pillow!=8.3.*,>=5.3.0 in c:\\users\\user\\appdata\\local\\programs\\python\\python312\\lib\\site-packages (from torchvision) (11.1.0)\n",
      "Requirement already satisfied: MarkupSafe>=2.0 in c:\\users\\user\\appdata\\local\\programs\\python\\python312\\lib\\site-packages (from jinja2->torch) (3.0.2)\n"
     ]
    },
    {
     "name": "stderr",
     "output_type": "stream",
     "text": [
      "\n",
      "[notice] A new release of pip is available: 24.2 -> 25.0.1\n",
      "[notice] To update, run: python.exe -m pip install --upgrade pip\n"
     ]
    }
   ],
   "source": [
    "!pip install torch torchvision torchaudio\n"
   ]
  },
  {
   "cell_type": "code",
   "execution_count": 6,
   "id": "4c930b88-8fe8-488b-9bd8-8fe10258c861",
   "metadata": {
    "scrolled": true
   },
   "outputs": [
    {
     "name": "stdout",
     "output_type": "stream",
     "text": [
      "Classes: ['Apple___Apple_scab', 'Apple___Black_rot', 'Apple___Cedar_apple_rust', 'Apple___healthy', 'Blueberry___healthy', 'Cherry_(including_sour)___Powdery_mildew', 'Cherry_(including_sour)___healthy', 'Corn_(maize)___Cercospora_leaf_spot Gray_leaf_spot', 'Corn_(maize)___Common_rust_', 'Corn_(maize)___Northern_Leaf_Blight', 'Corn_(maize)___healthy', 'Grape___Black_rot', 'Grape___Esca_(Black_Measles)', 'Grape___Leaf_blight_(Isariopsis_Leaf_Spot)', 'Grape___healthy', 'Orange___Haunglongbing_(Citrus_greening)', 'Peach___Bacterial_spot', 'Peach___healthy', 'Pepper,_bell___Bacterial_spot', 'Pepper,_bell___healthy', 'Potato___Early_blight', 'Potato___Late_blight', 'Potato___healthy', 'Raspberry___healthy', 'Soybean___healthy', 'Squash___Powdery_mildew', 'Strawberry___Leaf_scorch', 'Strawberry___healthy', 'Tomato___Bacterial_spot', 'Tomato___Early_blight', 'Tomato___Late_blight', 'Tomato___Leaf_Mold', 'Tomato___Septoria_leaf_spot', 'Tomato___Spider_mites Two-spotted_spider_mite', 'Tomato___Target_Spot', 'Tomato___Tomato_Yellow_Leaf_Curl_Virus', 'Tomato___Tomato_mosaic_virus', 'Tomato___healthy']\n",
      "Number of classes: 38\n",
      "Epoch 1/5\n"
     ]
    },
    {
     "name": "stderr",
     "output_type": "stream",
     "text": [
      "Training: 100%|██████████████████████████████████████████████████████████████████| 1099/1099 [4:35:46<00:00, 15.06s/it]\n"
     ]
    },
    {
     "name": "stdout",
     "output_type": "stream",
     "text": [
      "Train Loss: 1.4188 Acc: 0.5697\n"
     ]
    },
    {
     "name": "stderr",
     "output_type": "stream",
     "text": [
      "Validation: 100%|████████████████████████████████████████████████████████████████████| 275/275 [23:37<00:00,  5.15s/it]\n"
     ]
    },
    {
     "name": "stdout",
     "output_type": "stream",
     "text": [
      "Val Loss: 0.7125 Acc: 0.7738\n",
      "Epoch 2/5\n"
     ]
    },
    {
     "name": "stderr",
     "output_type": "stream",
     "text": [
      "Training: 100%|█████████████████████████████████████████████████████████████████| 1099/1099 [13:13:35<00:00, 43.33s/it]\n"
     ]
    },
    {
     "name": "stdout",
     "output_type": "stream",
     "text": [
      "Train Loss: 0.7725 Acc: 0.7535\n"
     ]
    },
    {
     "name": "stderr",
     "output_type": "stream",
     "text": [
      "Validation: 100%|████████████████████████████████████████████████████████████████████| 275/275 [30:21<00:00,  6.62s/it]\n"
     ]
    },
    {
     "name": "stdout",
     "output_type": "stream",
     "text": [
      "Val Loss: 0.4835 Acc: 0.8463\n",
      "Epoch 3/5\n"
     ]
    },
    {
     "name": "stderr",
     "output_type": "stream",
     "text": [
      "Training: 100%|██████████████████████████████████████████████████████████████████| 1099/1099 [3:49:18<00:00, 12.52s/it]\n"
     ]
    },
    {
     "name": "stdout",
     "output_type": "stream",
     "text": [
      "Train Loss: 0.5831 Acc: 0.8118\n"
     ]
    },
    {
     "name": "stderr",
     "output_type": "stream",
     "text": [
      "Validation: 100%|████████████████████████████████████████████████████████████████████| 275/275 [41:28<00:00,  9.05s/it]\n"
     ]
    },
    {
     "name": "stdout",
     "output_type": "stream",
     "text": [
      "Val Loss: 0.3234 Acc: 0.8981\n",
      "Epoch 4/5\n"
     ]
    },
    {
     "name": "stderr",
     "output_type": "stream",
     "text": [
      "Training: 100%|██████████████████████████████████████████████████████████████████| 1099/1099 [4:01:24<00:00, 13.18s/it]\n"
     ]
    },
    {
     "name": "stdout",
     "output_type": "stream",
     "text": [
      "Train Loss: 0.4882 Acc: 0.8405\n"
     ]
    },
    {
     "name": "stderr",
     "output_type": "stream",
     "text": [
      "Validation: 100%|████████████████████████████████████████████████████████████████████| 275/275 [24:08<00:00,  5.27s/it]\n"
     ]
    },
    {
     "name": "stdout",
     "output_type": "stream",
     "text": [
      "Val Loss: 0.2194 Acc: 0.9322\n",
      "Epoch 5/5\n"
     ]
    },
    {
     "name": "stderr",
     "output_type": "stream",
     "text": [
      "Training: 100%|█████████████████████████████████████████████████████████████████| 1099/1099 [18:52:44<00:00, 61.84s/it]\n"
     ]
    },
    {
     "name": "stdout",
     "output_type": "stream",
     "text": [
      "Train Loss: 0.4242 Acc: 0.8611\n"
     ]
    },
    {
     "name": "stderr",
     "output_type": "stream",
     "text": [
      "Validation: 100%|████████████████████████████████████████████████████████████████████| 275/275 [58:07<00:00, 12.68s/it]\n"
     ]
    },
    {
     "name": "stdout",
     "output_type": "stream",
     "text": [
      "Val Loss: 0.2100 Acc: 0.9335\n",
      "Best Validation Accuracy: 0.9335\n",
      "\n",
      "Best Model Saved: plant_disease_model_acc_0.9335.pth\n"
     ]
    }
   ],
   "source": [
    "import torch\n",
    "import torch.nn as nn\n",
    "import torch.optim as optim\n",
    "from torchvision import transforms, datasets, models\n",
    "from torch.utils.data import DataLoader\n",
    "from tqdm import tqdm\n",
    "import copy\n",
    "class AdvancedPlantClassifier(nn.Module):\n",
    "    def __init__(self, num_classes=38):\n",
    "        super(AdvancedPlantClassifier, self).__init__()\n",
    "        self.features = nn.Sequential(\n",
    "            nn.Conv2d(3, 64, kernel_size=3, padding=1),\n",
    "            nn.BatchNorm2d(64),\n",
    "            nn.ReLU(inplace=True),\n",
    "            nn.MaxPool2d(2, 2),\n",
    "            \n",
    "            nn.Conv2d(64, 128, kernel_size=3, padding=1),\n",
    "            nn.BatchNorm2d(128),\n",
    "            nn.ReLU(inplace=True),\n",
    "            nn.MaxPool2d(2, 2),\n",
    "            \n",
    "            nn.Conv2d(128, 256, kernel_size=3, padding=1),\n",
    "            nn.BatchNorm2d(256),\n",
    "            nn.ReLU(inplace=True),\n",
    "            nn.MaxPool2d(2, 2)\n",
    "        )\n",
    "        \n",
    "        self.classifier = nn.Sequential(\n",
    "            nn.AdaptiveAvgPool2d((1, 1)),\n",
    "            nn.Flatten(),\n",
    "            nn.Dropout(0.5),\n",
    "            nn.Linear(256, 512),\n",
    "            nn.ReLU(inplace=True),\n",
    "            nn.Dropout(0.3),\n",
    "            nn.Linear(512, num_classes)\n",
    "        )\n",
    "\n",
    "    def forward(self, x):\n",
    "        x = self.features(x)\n",
    "        x = self.classifier(x)\n",
    "        return x\n",
    "\n",
    "def train_model(model, train_loader, valid_loader, criterion, optimizer, scheduler, num_epochs=5):  #5 epochs\n",
    "    device = torch.device('cuda' if torch.cuda.is_available() else 'cpu')\n",
    "    model.to(device)\n",
    "    best_model_wts = copy.deepcopy(model.state_dict())\n",
    "    best_acc = 0.0\n",
    "    for epoch in range(num_epochs):\n",
    "        print(f'Epoch {epoch+1}/{num_epochs}')\n",
    "        \n",
    "        # Training\n",
    "        model.train()\n",
    "        train_loss, train_corrects = 0.0, 0\n",
    "\n",
    "        for inputs, labels in tqdm(train_loader, desc='Training'):\n",
    "            inputs, labels = inputs.to(device), labels.to(device)\n",
    "            \n",
    "            optimizer.zero_grad()\n",
    "            outputs = model(inputs)\n",
    "            loss = criterion(outputs, labels)\n",
    "            loss.backward()\n",
    "            optimizer.step()\n",
    "\n",
    "            _, preds = torch.max(outputs, 1)\n",
    "            train_loss += loss.item() * inputs.size(0)\n",
    "            train_corrects += torch.sum(preds == labels.data)\n",
    "\n",
    "        train_loss = train_loss / len(train_loader.dataset)\n",
    "        train_acc = train_corrects.double() / len(train_loader.dataset)\n",
    "        print(f'Train Loss: {train_loss:.4f} Acc: {train_acc:.4f}')\n",
    "\n",
    "        # Validation\n",
    "        model.eval()\n",
    "        val_loss, val_corrects = 0.0, 0\n",
    "\n",
    "        with torch.no_grad():\n",
    "            for inputs, labels in tqdm(valid_loader, desc='Validation'):\n",
    "                inputs, labels = inputs.to(device), labels.to(device)\n",
    "                \n",
    "                outputs = model(inputs)\n",
    "                loss = criterion(outputs, labels)\n",
    "\n",
    "                _, preds = torch.max(outputs, 1)\n",
    "                val_loss += loss.item() * inputs.size(0)\n",
    "                val_corrects += torch.sum(preds == labels.data)\n",
    "\n",
    "        val_loss = val_loss / len(valid_loader.dataset)\n",
    "        val_acc = val_corrects.double() / len(valid_loader.dataset)\n",
    "        print(f'Val Loss: {val_loss:.4f} Acc: {val_acc:.4f}')\n",
    "\n",
    "        # Update best model\n",
    "        if val_acc > best_acc:\n",
    "            best_acc = val_acc\n",
    "            best_model_wts = copy.deepcopy(model.state_dict())\n",
    "\n",
    "        scheduler.step(val_loss)\n",
    "\n",
    "    print(f'Best Validation Accuracy: {best_acc:.4f}')\n",
    "    model.load_state_dict(best_model_wts)\n",
    "    return model, best_acc\n",
    "\n",
    "def main():\n",
    "    # Data transformations\n",
    "    data_transforms = {\n",
    "        'train': transforms.Compose([\n",
    "            transforms.Resize((224, 224)),\n",
    "            transforms.RandomHorizontalFlip(),\n",
    "            transforms.RandomRotation(10),\n",
    "            transforms.ToTensor(),\n",
    "            transforms.Normalize([0.485, 0.456, 0.406], [0.229, 0.224, 0.225])\n",
    "        ]),\n",
    "        'valid': transforms.Compose([\n",
    "            transforms.Resize((224, 224)),\n",
    "            transforms.ToTensor(),\n",
    "            transforms.Normalize([0.485, 0.456, 0.406], [0.229, 0.224, 0.225])\n",
    "        ])\n",
    "    }\n",
    "    train_folder_path = r\"C:\\Users\\user\\Desktop\\guvi\\plant disease\\data\\New Plant Diseases Dataset(Augmented)\\New Plant Diseases Dataset(Augmented)\\train\"\n",
    "    valid_folder_path = r\"C:\\Users\\user\\Desktop\\guvi\\plant disease\\data\\New Plant Diseases Dataset(Augmented)\\New Plant Diseases Dataset(Augmented)\\valid\"\n",
    "    train_dataset = datasets.ImageFolder(train_folder_path, transform=data_transforms['train'])\n",
    "    valid_dataset = datasets.ImageFolder(valid_folder_path, transform=data_transforms['valid'])\n",
    "    train_loader = DataLoader(train_dataset, batch_size=64, shuffle=True, num_workers=0) # data  loaders \n",
    "    valid_loader = DataLoader(valid_dataset, batch_size=64, shuffle=False, num_workers=0)\n",
    "    print(\"Classes:\", train_dataset.classes)\n",
    "    print(\"Number of classes:\", len(train_dataset.classes))\n",
    "\n",
    "    model = AdvancedPlantClassifier(num_classes=len(train_dataset.classes))\n",
    "    criterion = nn.CrossEntropyLoss()\n",
    "    optimizer = optim.AdamW(model.parameters(), lr=0.001, weight_decay=0.01)\n",
    "    scheduler = optim.lr_scheduler.ReduceLROnPlateau(optimizer, mode='min', factor=0.5, patience=3)\n",
    "    trained_model, best_acc = train_model(model, train_loader, valid_loader, criterion, optimizer, scheduler)\n",
    "    model_filename = f'plant_disease_model_acc_{best_acc:.4f}.pth'\n",
    "    torch.save(trained_model.state_dict(), model_filename)\n",
    "    print(f\"\\nBest Model Saved: {model_filename}\")\n",
    "\n",
    "if __name__ == \"__main__\":\n",
    "    main()"
   ]
  },
  {
   "cell_type": "code",
   "execution_count": 4,
   "id": "118724b1-a2d1-4d32-9faf-214106bc0ece",
   "metadata": {},
   "outputs": [
    {
     "name": "stdout",
     "output_type": "stream",
     "text": [
      "Collecting tensorflow\n",
      "  Downloading tensorflow-2.19.0-cp312-cp312-win_amd64.whl.metadata (4.1 kB)\n",
      "Collecting absl-py>=1.0.0 (from tensorflow)\n",
      "  Downloading absl_py-2.1.0-py3-none-any.whl.metadata (2.3 kB)\n",
      "Collecting astunparse>=1.6.0 (from tensorflow)\n",
      "  Downloading astunparse-1.6.3-py2.py3-none-any.whl.metadata (4.4 kB)\n",
      "Collecting flatbuffers>=24.3.25 (from tensorflow)\n",
      "  Downloading flatbuffers-25.2.10-py2.py3-none-any.whl.metadata (875 bytes)\n",
      "Collecting gast!=0.5.0,!=0.5.1,!=0.5.2,>=0.2.1 (from tensorflow)\n",
      "  Downloading gast-0.6.0-py3-none-any.whl.metadata (1.3 kB)\n",
      "Collecting google-pasta>=0.1.1 (from tensorflow)\n",
      "  Downloading google_pasta-0.2.0-py3-none-any.whl.metadata (814 bytes)\n",
      "Collecting libclang>=13.0.0 (from tensorflow)\n",
      "  Downloading libclang-18.1.1-py2.py3-none-win_amd64.whl.metadata (5.3 kB)\n",
      "Collecting opt-einsum>=2.3.2 (from tensorflow)\n",
      "  Downloading opt_einsum-3.4.0-py3-none-any.whl.metadata (6.3 kB)\n",
      "Requirement already satisfied: packaging in c:\\users\\user\\appdata\\local\\programs\\python\\python312\\lib\\site-packages (from tensorflow) (24.2)\n",
      "Requirement already satisfied: protobuf!=4.21.0,!=4.21.1,!=4.21.2,!=4.21.3,!=4.21.4,!=4.21.5,<6.0.0dev,>=3.20.3 in c:\\users\\user\\appdata\\local\\programs\\python\\python312\\lib\\site-packages (from tensorflow) (5.29.3)\n",
      "Requirement already satisfied: requests<3,>=2.21.0 in c:\\users\\user\\appdata\\local\\programs\\python\\python312\\lib\\site-packages (from tensorflow) (2.32.3)\n",
      "Requirement already satisfied: setuptools in c:\\users\\user\\appdata\\local\\programs\\python\\python312\\lib\\site-packages (from tensorflow) (75.8.0)\n",
      "Requirement already satisfied: six>=1.12.0 in c:\\users\\user\\appdata\\local\\programs\\python\\python312\\lib\\site-packages (from tensorflow) (1.17.0)\n",
      "Collecting termcolor>=1.1.0 (from tensorflow)\n",
      "  Downloading termcolor-2.5.0-py3-none-any.whl.metadata (6.1 kB)\n",
      "Requirement already satisfied: typing-extensions>=3.6.6 in c:\\users\\user\\appdata\\local\\programs\\python\\python312\\lib\\site-packages (from tensorflow) (4.12.2)\n",
      "Requirement already satisfied: wrapt>=1.11.0 in c:\\users\\user\\appdata\\local\\programs\\python\\python312\\lib\\site-packages (from tensorflow) (1.17.2)\n",
      "Collecting grpcio<2.0,>=1.24.3 (from tensorflow)\n",
      "  Downloading grpcio-1.71.0-cp312-cp312-win_amd64.whl.metadata (4.0 kB)\n",
      "Collecting tensorboard~=2.19.0 (from tensorflow)\n",
      "  Downloading tensorboard-2.19.0-py3-none-any.whl.metadata (1.8 kB)\n",
      "Collecting keras>=3.5.0 (from tensorflow)\n",
      "  Downloading keras-3.9.0-py3-none-any.whl.metadata (6.1 kB)\n",
      "Collecting numpy<2.2.0,>=1.26.0 (from tensorflow)\n",
      "  Downloading numpy-2.1.3-cp312-cp312-win_amd64.whl.metadata (60 kB)\n",
      "Collecting h5py>=3.11.0 (from tensorflow)\n",
      "  Downloading h5py-3.13.0-cp312-cp312-win_amd64.whl.metadata (2.5 kB)\n",
      "Collecting ml-dtypes<1.0.0,>=0.5.1 (from tensorflow)\n",
      "  Downloading ml_dtypes-0.5.1-cp312-cp312-win_amd64.whl.metadata (22 kB)\n",
      "Collecting wheel<1.0,>=0.23.0 (from astunparse>=1.6.0->tensorflow)\n",
      "  Downloading wheel-0.45.1-py3-none-any.whl.metadata (2.3 kB)\n",
      "Collecting rich (from keras>=3.5.0->tensorflow)\n",
      "  Downloading rich-13.9.4-py3-none-any.whl.metadata (18 kB)\n",
      "Collecting namex (from keras>=3.5.0->tensorflow)\n",
      "  Downloading namex-0.0.8-py3-none-any.whl.metadata (246 bytes)\n",
      "Collecting optree (from keras>=3.5.0->tensorflow)\n",
      "  Downloading optree-0.14.1-cp312-cp312-win_amd64.whl.metadata (50 kB)\n",
      "Requirement already satisfied: charset-normalizer<4,>=2 in c:\\users\\user\\appdata\\local\\programs\\python\\python312\\lib\\site-packages (from requests<3,>=2.21.0->tensorflow) (3.4.1)\n",
      "Requirement already satisfied: idna<4,>=2.5 in c:\\users\\user\\appdata\\local\\programs\\python\\python312\\lib\\site-packages (from requests<3,>=2.21.0->tensorflow) (3.10)\n",
      "Requirement already satisfied: urllib3<3,>=1.21.1 in c:\\users\\user\\appdata\\local\\programs\\python\\python312\\lib\\site-packages (from requests<3,>=2.21.0->tensorflow) (2.3.0)\n",
      "Requirement already satisfied: certifi>=2017.4.17 in c:\\users\\user\\appdata\\local\\programs\\python\\python312\\lib\\site-packages (from requests<3,>=2.21.0->tensorflow) (2025.1.31)\n",
      "Requirement already satisfied: markdown>=2.6.8 in c:\\users\\user\\appdata\\local\\programs\\python\\python312\\lib\\site-packages (from tensorboard~=2.19.0->tensorflow) (3.7)\n",
      "Collecting tensorboard-data-server<0.8.0,>=0.7.0 (from tensorboard~=2.19.0->tensorflow)\n",
      "  Downloading tensorboard_data_server-0.7.2-py3-none-any.whl.metadata (1.1 kB)\n",
      "Requirement already satisfied: werkzeug>=1.0.1 in c:\\users\\user\\appdata\\local\\programs\\python\\python312\\lib\\site-packages (from tensorboard~=2.19.0->tensorflow) (3.1.3)\n",
      "Requirement already satisfied: MarkupSafe>=2.1.1 in c:\\users\\user\\appdata\\local\\programs\\python\\python312\\lib\\site-packages (from werkzeug>=1.0.1->tensorboard~=2.19.0->tensorflow) (3.0.2)\n",
      "Collecting markdown-it-py>=2.2.0 (from rich->keras>=3.5.0->tensorflow)\n",
      "  Downloading markdown_it_py-3.0.0-py3-none-any.whl.metadata (6.9 kB)\n",
      "Requirement already satisfied: pygments<3.0.0,>=2.13.0 in c:\\users\\user\\appdata\\local\\programs\\python\\python312\\lib\\site-packages (from rich->keras>=3.5.0->tensorflow) (2.19.1)\n",
      "Collecting mdurl~=0.1 (from markdown-it-py>=2.2.0->rich->keras>=3.5.0->tensorflow)\n",
      "  Downloading mdurl-0.1.2-py3-none-any.whl.metadata (1.6 kB)\n",
      "Downloading tensorflow-2.19.0-cp312-cp312-win_amd64.whl (376.0 MB)\n",
      "   ---------------------------------------- 0.0/376.0 MB ? eta -:--:--\n",
      "   ---------------------------------------- 1.6/376.0 MB 8.4 MB/s eta 0:00:45\n",
      "   ---------------------------------------- 3.1/376.0 MB 8.0 MB/s eta 0:00:47\n",
      "    --------------------------------------- 4.7/376.0 MB 7.3 MB/s eta 0:00:51\n",
      "    --------------------------------------- 6.3/376.0 MB 7.6 MB/s eta 0:00:49\n",
      "    --------------------------------------- 7.6/376.0 MB 7.7 MB/s eta 0:00:48\n",
      "    --------------------------------------- 8.4/376.0 MB 6.7 MB/s eta 0:00:56\n",
      "   - -------------------------------------- 10.5/376.0 MB 7.1 MB/s eta 0:00:52\n",
      "   - -------------------------------------- 11.5/376.0 MB 6.9 MB/s eta 0:00:54\n",
      "   - -------------------------------------- 12.1/376.0 MB 6.3 MB/s eta 0:00:58\n",
      "   - -------------------------------------- 13.4/376.0 MB 6.4 MB/s eta 0:00:57\n",
      "   - -------------------------------------- 15.2/376.0 MB 6.6 MB/s eta 0:00:55\n",
      "   - -------------------------------------- 16.5/376.0 MB 6.7 MB/s eta 0:00:54\n",
      "   - -------------------------------------- 17.8/376.0 MB 6.7 MB/s eta 0:00:54\n",
      "   -- ------------------------------------- 19.7/376.0 MB 6.7 MB/s eta 0:00:54\n",
      "   -- ------------------------------------- 21.2/376.0 MB 6.7 MB/s eta 0:00:53\n",
      "   -- ------------------------------------- 22.8/376.0 MB 6.8 MB/s eta 0:00:52\n",
      "   -- ------------------------------------- 24.9/376.0 MB 6.9 MB/s eta 0:00:51\n",
      "   -- ------------------------------------- 26.7/376.0 MB 7.1 MB/s eta 0:00:50\n",
      "   --- ------------------------------------ 28.3/376.0 MB 7.1 MB/s eta 0:00:49\n",
      "   --- ------------------------------------ 30.4/376.0 MB 7.2 MB/s eta 0:00:48\n",
      "   --- ------------------------------------ 32.0/376.0 MB 7.3 MB/s eta 0:00:48\n",
      "   --- ------------------------------------ 33.8/376.0 MB 7.3 MB/s eta 0:00:47\n",
      "   --- ------------------------------------ 35.7/376.0 MB 7.4 MB/s eta 0:00:46\n",
      "   --- ------------------------------------ 37.2/376.0 MB 7.4 MB/s eta 0:00:46\n",
      "   ---- ----------------------------------- 38.5/376.0 MB 7.4 MB/s eta 0:00:46\n",
      "   ---- ----------------------------------- 40.4/376.0 MB 7.4 MB/s eta 0:00:46\n",
      "   ---- ----------------------------------- 42.2/376.0 MB 7.5 MB/s eta 0:00:45\n",
      "   ---- ----------------------------------- 43.8/376.0 MB 7.5 MB/s eta 0:00:45\n",
      "   ---- ----------------------------------- 45.9/376.0 MB 7.6 MB/s eta 0:00:44\n",
      "   ----- ---------------------------------- 47.4/376.0 MB 7.6 MB/s eta 0:00:44\n",
      "   ----- ---------------------------------- 49.3/376.0 MB 7.6 MB/s eta 0:00:44\n",
      "   ----- ---------------------------------- 50.6/376.0 MB 7.5 MB/s eta 0:00:44\n",
      "   ----- ---------------------------------- 51.9/376.0 MB 7.5 MB/s eta 0:00:44\n",
      "   ----- ---------------------------------- 53.5/376.0 MB 7.5 MB/s eta 0:00:43\n",
      "   ----- ---------------------------------- 55.3/376.0 MB 7.5 MB/s eta 0:00:43\n",
      "   ------ --------------------------------- 56.9/376.0 MB 7.6 MB/s eta 0:00:43\n",
      "   ------ --------------------------------- 58.7/376.0 MB 7.6 MB/s eta 0:00:42\n",
      "   ------ --------------------------------- 60.0/376.0 MB 7.6 MB/s eta 0:00:42\n",
      "   ------ --------------------------------- 61.6/376.0 MB 7.5 MB/s eta 0:00:42\n",
      "   ------ --------------------------------- 63.2/376.0 MB 7.5 MB/s eta 0:00:42\n",
      "   ------ --------------------------------- 63.7/376.0 MB 7.5 MB/s eta 0:00:42\n",
      "   ------ --------------------------------- 64.0/376.0 MB 7.4 MB/s eta 0:00:43\n",
      "   ------ --------------------------------- 64.0/376.0 MB 7.4 MB/s eta 0:00:43\n",
      "   ------- -------------------------------- 65.8/376.0 MB 7.1 MB/s eta 0:00:44\n",
      "   ------- -------------------------------- 66.8/376.0 MB 7.1 MB/s eta 0:00:44\n",
      "   ------- -------------------------------- 68.4/376.0 MB 7.1 MB/s eta 0:00:44\n",
      "   ------- -------------------------------- 69.7/376.0 MB 7.1 MB/s eta 0:00:44\n",
      "   ------- -------------------------------- 71.0/376.0 MB 7.1 MB/s eta 0:00:44\n",
      "   ------- -------------------------------- 72.1/376.0 MB 7.0 MB/s eta 0:00:44\n",
      "   ------- -------------------------------- 72.9/376.0 MB 7.0 MB/s eta 0:00:44\n",
      "   ------- -------------------------------- 74.2/376.0 MB 6.9 MB/s eta 0:00:44\n",
      "   -------- ------------------------------- 75.8/376.0 MB 7.0 MB/s eta 0:00:44\n",
      "   -------- ------------------------------- 77.3/376.0 MB 6.9 MB/s eta 0:00:44\n",
      "   -------- ------------------------------- 78.1/376.0 MB 6.9 MB/s eta 0:00:44\n",
      "   -------- ------------------------------- 79.7/376.0 MB 6.9 MB/s eta 0:00:43\n",
      "   -------- ------------------------------- 81.3/376.0 MB 6.9 MB/s eta 0:00:43\n",
      "   -------- ------------------------------- 82.8/376.0 MB 6.9 MB/s eta 0:00:43\n",
      "   -------- ------------------------------- 84.4/376.0 MB 6.9 MB/s eta 0:00:43\n",
      "   --------- ------------------------------ 86.0/376.0 MB 6.9 MB/s eta 0:00:42\n",
      "   --------- ------------------------------ 88.1/376.0 MB 7.0 MB/s eta 0:00:42\n",
      "   --------- ------------------------------ 89.7/376.0 MB 7.0 MB/s eta 0:00:41\n",
      "   --------- ------------------------------ 91.5/376.0 MB 7.0 MB/s eta 0:00:41\n",
      "   --------- ------------------------------ 93.1/376.0 MB 7.0 MB/s eta 0:00:41\n",
      "   ---------- ----------------------------- 94.6/376.0 MB 7.0 MB/s eta 0:00:41\n",
      "   ---------- ----------------------------- 96.5/376.0 MB 7.1 MB/s eta 0:00:40\n",
      "   ---------- ----------------------------- 98.3/376.0 MB 7.1 MB/s eta 0:00:40\n",
      "   ---------- ----------------------------- 100.1/376.0 MB 7.1 MB/s eta 0:00:39\n",
      "   ---------- ----------------------------- 102.2/376.0 MB 7.1 MB/s eta 0:00:39\n",
      "   ----------- ---------------------------- 103.8/376.0 MB 7.2 MB/s eta 0:00:39\n",
      "   ----------- ---------------------------- 105.4/376.0 MB 7.2 MB/s eta 0:00:38\n",
      "   ----------- ---------------------------- 106.2/376.0 MB 7.1 MB/s eta 0:00:39\n",
      "   ----------- ---------------------------- 106.7/376.0 MB 7.1 MB/s eta 0:00:39\n",
      "   ----------- ---------------------------- 107.5/376.0 MB 7.0 MB/s eta 0:00:39\n",
      "   ----------- ---------------------------- 108.5/376.0 MB 7.0 MB/s eta 0:00:39\n",
      "   ----------- ---------------------------- 109.1/376.0 MB 6.9 MB/s eta 0:00:39\n",
      "   ----------- ---------------------------- 110.1/376.0 MB 6.9 MB/s eta 0:00:39\n",
      "   ----------- ---------------------------- 112.2/376.0 MB 6.9 MB/s eta 0:00:39\n",
      "   ------------ --------------------------- 114.0/376.0 MB 6.9 MB/s eta 0:00:38\n",
      "   ------------ --------------------------- 115.9/376.0 MB 7.0 MB/s eta 0:00:38\n",
      "   ------------ --------------------------- 117.7/376.0 MB 7.0 MB/s eta 0:00:37\n",
      "   ------------ --------------------------- 118.8/376.0 MB 7.0 MB/s eta 0:00:37\n",
      "   ------------ --------------------------- 120.3/376.0 MB 7.0 MB/s eta 0:00:37\n",
      "   ------------ --------------------------- 122.2/376.0 MB 7.0 MB/s eta 0:00:37\n",
      "   ------------- -------------------------- 123.7/376.0 MB 7.0 MB/s eta 0:00:37\n",
      "   ------------- -------------------------- 125.6/376.0 MB 7.0 MB/s eta 0:00:36\n",
      "   ------------- -------------------------- 127.7/376.0 MB 7.1 MB/s eta 0:00:36\n",
      "   ------------- -------------------------- 129.0/376.0 MB 7.1 MB/s eta 0:00:36\n",
      "   ------------- -------------------------- 130.5/376.0 MB 7.1 MB/s eta 0:00:35\n",
      "   ------------- -------------------------- 131.1/376.0 MB 7.1 MB/s eta 0:00:35\n",
      "   -------------- ------------------------- 131.6/376.0 MB 7.0 MB/s eta 0:00:36\n",
      "   -------------- ------------------------- 133.4/376.0 MB 7.0 MB/s eta 0:00:35\n",
      "   -------------- ------------------------- 134.7/376.0 MB 7.0 MB/s eta 0:00:35\n",
      "   -------------- ------------------------- 135.5/376.0 MB 6.9 MB/s eta 0:00:35\n",
      "   -------------- ------------------------- 137.1/376.0 MB 6.9 MB/s eta 0:00:35\n",
      "   -------------- ------------------------- 137.9/376.0 MB 6.9 MB/s eta 0:00:35\n",
      "   -------------- ------------------------- 139.5/376.0 MB 6.9 MB/s eta 0:00:35\n",
      "   --------------- ------------------------ 141.0/376.0 MB 6.9 MB/s eta 0:00:34\n",
      "   --------------- ------------------------ 142.1/376.0 MB 6.9 MB/s eta 0:00:34\n",
      "   --------------- ------------------------ 143.1/376.0 MB 6.9 MB/s eta 0:00:34\n",
      "   --------------- ------------------------ 144.4/376.0 MB 6.9 MB/s eta 0:00:34\n",
      "   --------------- ------------------------ 145.5/376.0 MB 6.9 MB/s eta 0:00:34\n",
      "   --------------- ------------------------ 147.1/376.0 MB 6.9 MB/s eta 0:00:34\n",
      "   --------------- ------------------------ 147.8/376.0 MB 6.8 MB/s eta 0:00:34\n",
      "   --------------- ------------------------ 149.2/376.0 MB 6.8 MB/s eta 0:00:34\n",
      "   --------------- ------------------------ 150.2/376.0 MB 6.8 MB/s eta 0:00:34\n",
      "   ---------------- ----------------------- 151.3/376.0 MB 6.8 MB/s eta 0:00:34\n",
      "   ---------------- ----------------------- 151.8/376.0 MB 6.8 MB/s eta 0:00:34\n",
      "   ---------------- ----------------------- 152.0/376.0 MB 6.7 MB/s eta 0:00:34\n",
      "   ---------------- ----------------------- 152.6/376.0 MB 6.7 MB/s eta 0:00:34\n",
      "   ---------------- ----------------------- 153.9/376.0 MB 6.6 MB/s eta 0:00:34\n",
      "   ---------------- ----------------------- 154.9/376.0 MB 6.6 MB/s eta 0:00:34\n",
      "   ---------------- ----------------------- 156.5/376.0 MB 6.6 MB/s eta 0:00:34\n",
      "   ---------------- ----------------------- 157.3/376.0 MB 6.6 MB/s eta 0:00:34\n",
      "   ---------------- ----------------------- 158.1/376.0 MB 6.6 MB/s eta 0:00:34\n",
      "   ---------------- ----------------------- 158.3/376.0 MB 6.5 MB/s eta 0:00:34\n",
      "   ---------------- ----------------------- 158.9/376.0 MB 6.5 MB/s eta 0:00:34\n",
      "   ---------------- ----------------------- 159.4/376.0 MB 6.5 MB/s eta 0:00:34\n",
      "   ----------------- ---------------------- 160.4/376.0 MB 6.5 MB/s eta 0:00:34\n",
      "   ----------------- ---------------------- 161.5/376.0 MB 6.4 MB/s eta 0:00:34\n",
      "   ----------------- ---------------------- 162.3/376.0 MB 6.4 MB/s eta 0:00:34\n",
      "   ----------------- ---------------------- 163.1/376.0 MB 6.4 MB/s eta 0:00:34\n",
      "   ----------------- ---------------------- 164.4/376.0 MB 6.4 MB/s eta 0:00:34\n",
      "   ----------------- ---------------------- 165.4/376.0 MB 6.4 MB/s eta 0:00:33\n",
      "   ----------------- ---------------------- 167.0/376.0 MB 6.4 MB/s eta 0:00:33\n",
      "   ----------------- ---------------------- 168.3/376.0 MB 6.4 MB/s eta 0:00:33\n",
      "   ------------------ --------------------- 169.3/376.0 MB 6.4 MB/s eta 0:00:33\n",
      "   ------------------ --------------------- 170.1/376.0 MB 6.4 MB/s eta 0:00:33\n",
      "   ------------------ --------------------- 170.9/376.0 MB 6.3 MB/s eta 0:00:33\n",
      "   ------------------ --------------------- 172.0/376.0 MB 6.3 MB/s eta 0:00:33\n",
      "   ------------------ --------------------- 173.0/376.0 MB 6.3 MB/s eta 0:00:33\n",
      "   ------------------ --------------------- 174.3/376.0 MB 6.3 MB/s eta 0:00:32\n",
      "   ------------------ --------------------- 175.4/376.0 MB 6.3 MB/s eta 0:00:32\n",
      "   ------------------ --------------------- 176.9/376.0 MB 6.3 MB/s eta 0:00:32\n",
      "   ------------------ --------------------- 178.3/376.0 MB 6.3 MB/s eta 0:00:32\n",
      "   ------------------- -------------------- 179.3/376.0 MB 6.3 MB/s eta 0:00:32\n",
      "   ------------------- -------------------- 180.4/376.0 MB 6.3 MB/s eta 0:00:32\n",
      "   ------------------- -------------------- 181.9/376.0 MB 6.3 MB/s eta 0:00:31\n",
      "   ------------------- -------------------- 182.7/376.0 MB 6.3 MB/s eta 0:00:31\n",
      "   ------------------- -------------------- 184.0/376.0 MB 6.3 MB/s eta 0:00:31\n",
      "   ------------------- -------------------- 184.5/376.0 MB 6.3 MB/s eta 0:00:31\n",
      "   ------------------- -------------------- 185.1/376.0 MB 6.2 MB/s eta 0:00:31\n",
      "   ------------------- -------------------- 186.9/376.0 MB 6.2 MB/s eta 0:00:31\n",
      "   -------------------- ------------------- 188.5/376.0 MB 6.2 MB/s eta 0:00:31\n",
      "   -------------------- ------------------- 190.1/376.0 MB 6.2 MB/s eta 0:00:30\n",
      "   -------------------- ------------------- 191.6/376.0 MB 6.3 MB/s eta 0:00:30\n",
      "   -------------------- ------------------- 193.2/376.0 MB 6.2 MB/s eta 0:00:30\n",
      "   -------------------- ------------------- 194.8/376.0 MB 6.2 MB/s eta 0:00:30\n",
      "   -------------------- ------------------- 196.1/376.0 MB 6.3 MB/s eta 0:00:29\n",
      "   -------------------- ------------------- 197.1/376.0 MB 6.3 MB/s eta 0:00:29\n",
      "   --------------------- ------------------ 198.7/376.0 MB 6.3 MB/s eta 0:00:29\n",
      "   --------------------- ------------------ 200.5/376.0 MB 6.3 MB/s eta 0:00:28\n",
      "   --------------------- ------------------ 201.6/376.0 MB 6.3 MB/s eta 0:00:28\n",
      "   --------------------- ------------------ 202.6/376.0 MB 6.3 MB/s eta 0:00:28\n",
      "   --------------------- ------------------ 203.7/376.0 MB 6.2 MB/s eta 0:00:28\n",
      "   --------------------- ------------------ 204.5/376.0 MB 6.2 MB/s eta 0:00:28\n",
      "   --------------------- ------------------ 205.8/376.0 MB 6.2 MB/s eta 0:00:28\n",
      "   ---------------------- ----------------- 207.4/376.0 MB 6.2 MB/s eta 0:00:28\n",
      "   ---------------------- ----------------- 208.9/376.0 MB 6.2 MB/s eta 0:00:27\n",
      "   ---------------------- ----------------- 211.0/376.0 MB 6.2 MB/s eta 0:00:27\n",
      "   ---------------------- ----------------- 212.6/376.0 MB 6.2 MB/s eta 0:00:27\n",
      "   ---------------------- ----------------- 214.2/376.0 MB 6.2 MB/s eta 0:00:27\n",
      "   ---------------------- ----------------- 216.0/376.0 MB 6.2 MB/s eta 0:00:26\n",
      "   ----------------------- ---------------- 217.6/376.0 MB 6.2 MB/s eta 0:00:26\n",
      "   ----------------------- ---------------- 219.4/376.0 MB 6.2 MB/s eta 0:00:26\n",
      "   ----------------------- ---------------- 221.5/376.0 MB 6.2 MB/s eta 0:00:25\n",
      "   ----------------------- ---------------- 223.1/376.0 MB 6.2 MB/s eta 0:00:25\n",
      "   ----------------------- ---------------- 224.9/376.0 MB 6.2 MB/s eta 0:00:25\n",
      "   ------------------------ --------------- 225.7/376.0 MB 6.2 MB/s eta 0:00:25\n",
      "   ------------------------ --------------- 227.3/376.0 MB 6.2 MB/s eta 0:00:25\n",
      "   ------------------------ --------------- 228.6/376.0 MB 6.2 MB/s eta 0:00:24\n",
      "   ------------------------ --------------- 230.2/376.0 MB 6.2 MB/s eta 0:00:24\n",
      "   ------------------------ --------------- 231.7/376.0 MB 6.1 MB/s eta 0:00:24\n",
      "   ------------------------ --------------- 232.0/376.0 MB 6.1 MB/s eta 0:00:24\n",
      "   ------------------------ --------------- 232.5/376.0 MB 6.1 MB/s eta 0:00:24\n",
      "   ------------------------ --------------- 232.8/376.0 MB 6.0 MB/s eta 0:00:24\n",
      "   ------------------------ --------------- 234.4/376.0 MB 6.0 MB/s eta 0:00:24\n",
      "   ------------------------- -------------- 236.2/376.0 MB 6.0 MB/s eta 0:00:24\n",
      "   ------------------------- -------------- 238.0/376.0 MB 6.0 MB/s eta 0:00:23\n",
      "   ------------------------- -------------- 239.6/376.0 MB 6.0 MB/s eta 0:00:23\n",
      "   ------------------------- -------------- 241.4/376.0 MB 6.0 MB/s eta 0:00:23\n",
      "   ------------------------- -------------- 242.7/376.0 MB 6.0 MB/s eta 0:00:23\n",
      "   ------------------------- -------------- 244.3/376.0 MB 6.0 MB/s eta 0:00:22\n",
      "   -------------------------- ------------- 245.1/376.0 MB 6.1 MB/s eta 0:00:22\n",
      "   -------------------------- ------------- 245.9/376.0 MB 6.1 MB/s eta 0:00:22\n",
      "   -------------------------- ------------- 246.7/376.0 MB 6.1 MB/s eta 0:00:22\n",
      "   -------------------------- ------------- 248.5/376.0 MB 6.1 MB/s eta 0:00:21\n",
      "   -------------------------- ------------- 250.6/376.0 MB 6.1 MB/s eta 0:00:21\n",
      "   -------------------------- ------------- 252.4/376.0 MB 6.1 MB/s eta 0:00:21\n",
      "   --------------------------- ------------ 254.3/376.0 MB 6.1 MB/s eta 0:00:20\n",
      "   --------------------------- ------------ 255.9/376.0 MB 6.2 MB/s eta 0:00:20\n",
      "   --------------------------- ------------ 257.4/376.0 MB 6.2 MB/s eta 0:00:20\n",
      "   --------------------------- ------------ 259.3/376.0 MB 6.2 MB/s eta 0:00:19\n",
      "   --------------------------- ------------ 260.3/376.0 MB 6.2 MB/s eta 0:00:19\n",
      "   --------------------------- ------------ 261.6/376.0 MB 6.2 MB/s eta 0:00:19\n",
      "   ---------------------------- ----------- 263.5/376.0 MB 6.2 MB/s eta 0:00:19\n",
      "   ---------------------------- ----------- 265.0/376.0 MB 6.2 MB/s eta 0:00:18\n",
      "   ---------------------------- ----------- 265.0/376.0 MB 6.2 MB/s eta 0:00:18\n",
      "   ---------------------------- ----------- 266.6/376.0 MB 6.2 MB/s eta 0:00:18\n",
      "   ---------------------------- ----------- 268.2/376.0 MB 6.2 MB/s eta 0:00:18\n",
      "   ---------------------------- ----------- 270.0/376.0 MB 6.2 MB/s eta 0:00:18\n",
      "   ---------------------------- ----------- 271.6/376.0 MB 6.2 MB/s eta 0:00:17\n",
      "   ----------------------------- ---------- 272.9/376.0 MB 6.2 MB/s eta 0:00:17\n",
      "   ----------------------------- ---------- 274.2/376.0 MB 6.1 MB/s eta 0:00:17\n",
      "   ----------------------------- ---------- 275.5/376.0 MB 6.1 MB/s eta 0:00:17\n",
      "   ----------------------------- ---------- 276.0/376.0 MB 6.1 MB/s eta 0:00:17\n",
      "   ----------------------------- ---------- 277.1/376.0 MB 6.1 MB/s eta 0:00:17\n",
      "   ----------------------------- ---------- 277.3/376.0 MB 6.1 MB/s eta 0:00:17\n",
      "   ----------------------------- ---------- 278.7/376.0 MB 6.0 MB/s eta 0:00:17\n",
      "   ----------------------------- ---------- 280.0/376.0 MB 6.0 MB/s eta 0:00:17\n",
      "   ----------------------------- ---------- 281.8/376.0 MB 6.0 MB/s eta 0:00:16\n",
      "   ------------------------------ --------- 283.6/376.0 MB 6.0 MB/s eta 0:00:16\n",
      "   ------------------------------ --------- 285.2/376.0 MB 6.0 MB/s eta 0:00:16\n",
      "   ------------------------------ --------- 286.8/376.0 MB 6.0 MB/s eta 0:00:15\n",
      "   ------------------------------ --------- 288.1/376.0 MB 6.0 MB/s eta 0:00:15\n",
      "   ------------------------------ --------- 289.9/376.0 MB 6.1 MB/s eta 0:00:15\n",
      "   ------------------------------- -------- 292.0/376.0 MB 6.1 MB/s eta 0:00:14\n",
      "   ------------------------------- -------- 293.3/376.0 MB 6.1 MB/s eta 0:00:14\n",
      "   ------------------------------- -------- 295.2/376.0 MB 6.2 MB/s eta 0:00:14\n",
      "   ------------------------------- -------- 297.0/376.0 MB 6.1 MB/s eta 0:00:13\n",
      "   ------------------------------- -------- 298.6/376.0 MB 6.1 MB/s eta 0:00:13\n",
      "   ------------------------------- -------- 300.4/376.0 MB 6.1 MB/s eta 0:00:13\n",
      "   -------------------------------- ------- 301.5/376.0 MB 6.1 MB/s eta 0:00:13\n",
      "   -------------------------------- ------- 302.8/376.0 MB 6.1 MB/s eta 0:00:12\n",
      "   -------------------------------- ------- 303.8/376.0 MB 6.1 MB/s eta 0:00:12\n",
      "   -------------------------------- ------- 304.9/376.0 MB 6.1 MB/s eta 0:00:12\n",
      "   -------------------------------- ------- 306.7/376.0 MB 6.1 MB/s eta 0:00:12\n",
      "   -------------------------------- ------- 308.5/376.0 MB 6.1 MB/s eta 0:00:12\n",
      "   -------------------------------- ------- 309.9/376.0 MB 6.1 MB/s eta 0:00:11\n",
      "   --------------------------------- ------ 311.4/376.0 MB 6.1 MB/s eta 0:00:11\n",
      "   --------------------------------- ------ 313.0/376.0 MB 6.1 MB/s eta 0:00:11\n",
      "   --------------------------------- ------ 313.3/376.0 MB 6.1 MB/s eta 0:00:11\n",
      "   --------------------------------- ------ 315.1/376.0 MB 6.1 MB/s eta 0:00:10\n",
      "   --------------------------------- ------ 316.4/376.0 MB 6.1 MB/s eta 0:00:10\n",
      "   --------------------------------- ------ 316.9/376.0 MB 6.1 MB/s eta 0:00:10\n",
      "   --------------------------------- ------ 318.8/376.0 MB 6.1 MB/s eta 0:00:10\n",
      "   ---------------------------------- ----- 320.3/376.0 MB 6.1 MB/s eta 0:00:10\n",
      "   ---------------------------------- ----- 321.1/376.0 MB 6.1 MB/s eta 0:00:09\n",
      "   ---------------------------------- ----- 321.7/376.0 MB 6.1 MB/s eta 0:00:09\n",
      "   ---------------------------------- ----- 322.2/376.0 MB 6.0 MB/s eta 0:00:09\n",
      "   ---------------------------------- ----- 322.7/376.0 MB 6.0 MB/s eta 0:00:09\n",
      "   ---------------------------------- ----- 323.7/376.0 MB 6.0 MB/s eta 0:00:09\n",
      "   ---------------------------------- ----- 324.5/376.0 MB 6.0 MB/s eta 0:00:09\n",
      "   ---------------------------------- ----- 325.3/376.0 MB 6.0 MB/s eta 0:00:09\n",
      "   ---------------------------------- ----- 325.6/376.0 MB 6.0 MB/s eta 0:00:09\n",
      "   ---------------------------------- ----- 326.1/376.0 MB 5.9 MB/s eta 0:00:09\n",
      "   ---------------------------------- ----- 326.9/376.0 MB 5.9 MB/s eta 0:00:09\n",
      "   ---------------------------------- ----- 327.4/376.0 MB 5.9 MB/s eta 0:00:09\n",
      "   ---------------------------------- ----- 328.5/376.0 MB 5.9 MB/s eta 0:00:09\n",
      "   ----------------------------------- ---- 329.8/376.0 MB 6.0 MB/s eta 0:00:08\n",
      "   ----------------------------------- ---- 330.6/376.0 MB 6.0 MB/s eta 0:00:08\n",
      "   ----------------------------------- ---- 331.1/376.0 MB 5.9 MB/s eta 0:00:08\n",
      "   ----------------------------------- ---- 331.6/376.0 MB 5.9 MB/s eta 0:00:08\n",
      "   ----------------------------------- ---- 332.7/376.0 MB 5.9 MB/s eta 0:00:08\n",
      "   ----------------------------------- ---- 334.0/376.0 MB 5.9 MB/s eta 0:00:08\n",
      "   ----------------------------------- ---- 335.5/376.0 MB 5.9 MB/s eta 0:00:07\n",
      "   ----------------------------------- ---- 336.6/376.0 MB 6.0 MB/s eta 0:00:07\n",
      "   ----------------------------------- ---- 337.9/376.0 MB 6.0 MB/s eta 0:00:07\n",
      "   ------------------------------------ --- 339.0/376.0 MB 6.0 MB/s eta 0:00:07\n",
      "   ------------------------------------ --- 340.0/376.0 MB 6.0 MB/s eta 0:00:06\n",
      "   ------------------------------------ --- 340.5/376.0 MB 6.0 MB/s eta 0:00:06\n",
      "   ------------------------------------ --- 340.5/376.0 MB 6.0 MB/s eta 0:00:06\n",
      "   ------------------------------------ --- 341.6/376.0 MB 6.0 MB/s eta 0:00:06\n",
      "   ------------------------------------ --- 342.9/376.0 MB 6.0 MB/s eta 0:00:06\n",
      "   ------------------------------------ --- 343.9/376.0 MB 6.0 MB/s eta 0:00:06\n",
      "   ------------------------------------ --- 344.7/376.0 MB 6.0 MB/s eta 0:00:06\n",
      "   ------------------------------------ --- 345.2/376.0 MB 5.9 MB/s eta 0:00:06\n",
      "   ------------------------------------ --- 345.5/376.0 MB 5.9 MB/s eta 0:00:06\n",
      "   ------------------------------------ --- 345.5/376.0 MB 5.9 MB/s eta 0:00:06\n",
      "   ------------------------------------ --- 345.8/376.0 MB 5.9 MB/s eta 0:00:06\n",
      "   ------------------------------------ --- 345.8/376.0 MB 5.9 MB/s eta 0:00:06\n",
      "   ------------------------------------ --- 346.0/376.0 MB 5.8 MB/s eta 0:00:06\n",
      "   ------------------------------------ --- 346.6/376.0 MB 5.8 MB/s eta 0:00:06\n",
      "   ------------------------------------ --- 346.8/376.0 MB 5.7 MB/s eta 0:00:06\n",
      "   ------------------------------------ --- 347.3/376.0 MB 5.7 MB/s eta 0:00:06\n",
      "   ------------------------------------ --- 347.3/376.0 MB 5.7 MB/s eta 0:00:06\n",
      "   ------------------------------------- -- 348.1/376.0 MB 5.7 MB/s eta 0:00:05\n",
      "   ------------------------------------- -- 348.7/376.0 MB 5.6 MB/s eta 0:00:05\n",
      "   ------------------------------------- -- 348.9/376.0 MB 5.6 MB/s eta 0:00:05\n",
      "   ------------------------------------- -- 349.2/376.0 MB 5.6 MB/s eta 0:00:05\n",
      "   ------------------------------------- -- 349.7/376.0 MB 5.6 MB/s eta 0:00:05\n",
      "   ------------------------------------- -- 350.2/376.0 MB 5.5 MB/s eta 0:00:05\n",
      "   ------------------------------------- -- 351.3/376.0 MB 5.6 MB/s eta 0:00:05\n",
      "   ------------------------------------- -- 352.3/376.0 MB 5.5 MB/s eta 0:00:05\n",
      "   ------------------------------------- -- 353.1/376.0 MB 5.5 MB/s eta 0:00:05\n",
      "   ------------------------------------- -- 353.9/376.0 MB 5.5 MB/s eta 0:00:05\n",
      "   ------------------------------------- -- 354.4/376.0 MB 5.4 MB/s eta 0:00:04\n",
      "   ------------------------------------- -- 355.5/376.0 MB 5.4 MB/s eta 0:00:04\n",
      "   ------------------------------------- -- 355.7/376.0 MB 5.4 MB/s eta 0:00:04\n",
      "   ------------------------------------- -- 356.5/376.0 MB 5.4 MB/s eta 0:00:04\n",
      "   ------------------------------------- -- 356.8/376.0 MB 5.3 MB/s eta 0:00:04\n",
      "   -------------------------------------- - 357.6/376.0 MB 5.3 MB/s eta 0:00:04\n",
      "   -------------------------------------- - 358.4/376.0 MB 5.3 MB/s eta 0:00:04\n",
      "   -------------------------------------- - 359.4/376.0 MB 5.3 MB/s eta 0:00:04\n",
      "   -------------------------------------- - 360.4/376.0 MB 5.3 MB/s eta 0:00:03\n",
      "   -------------------------------------- - 361.5/376.0 MB 5.3 MB/s eta 0:00:03\n",
      "   -------------------------------------- - 362.8/376.0 MB 5.3 MB/s eta 0:00:03\n",
      "   -------------------------------------- - 363.9/376.0 MB 5.3 MB/s eta 0:00:03\n",
      "   -------------------------------------- - 365.2/376.0 MB 5.3 MB/s eta 0:00:03\n",
      "   -------------------------------------- - 366.0/376.0 MB 5.2 MB/s eta 0:00:02\n",
      "   ---------------------------------------  366.7/376.0 MB 5.2 MB/s eta 0:00:02\n",
      "   ---------------------------------------  367.8/376.0 MB 5.2 MB/s eta 0:00:02\n",
      "   ---------------------------------------  368.6/376.0 MB 5.2 MB/s eta 0:00:02\n",
      "   ---------------------------------------  368.6/376.0 MB 5.2 MB/s eta 0:00:02\n",
      "   ---------------------------------------  369.1/376.0 MB 5.1 MB/s eta 0:00:02\n",
      "   ---------------------------------------  369.9/376.0 MB 5.0 MB/s eta 0:00:02\n",
      "   ---------------------------------------  370.4/376.0 MB 5.0 MB/s eta 0:00:02\n",
      "   ---------------------------------------  372.0/376.0 MB 5.0 MB/s eta 0:00:01\n",
      "   ---------------------------------------  373.3/376.0 MB 4.9 MB/s eta 0:00:01\n",
      "   ---------------------------------------  374.9/376.0 MB 5.0 MB/s eta 0:00:01\n",
      "   ---------------------------------------  375.7/376.0 MB 4.9 MB/s eta 0:00:01\n",
      "   ---------------------------------------  375.9/376.0 MB 4.9 MB/s eta 0:00:01\n",
      "   ---------------------------------------  375.9/376.0 MB 4.9 MB/s eta 0:00:01\n",
      "   ---------------------------------------  375.9/376.0 MB 4.9 MB/s eta 0:00:01\n",
      "   ---------------------------------------  375.9/376.0 MB 4.9 MB/s eta 0:00:01\n",
      "   ---------------------------------------  375.9/376.0 MB 4.9 MB/s eta 0:00:01\n",
      "   ---------------------------------------  375.9/376.0 MB 4.9 MB/s eta 0:00:01\n",
      "   ---------------------------------------  375.9/376.0 MB 4.9 MB/s eta 0:00:01\n",
      "   ---------------------------------------  375.9/376.0 MB 4.9 MB/s eta 0:00:01\n",
      "   ---------------------------------------  375.9/376.0 MB 4.9 MB/s eta 0:00:01\n",
      "   ---------------------------------------  375.9/376.0 MB 4.9 MB/s eta 0:00:01\n",
      "   ---------------------------------------  375.9/376.0 MB 4.9 MB/s eta 0:00:01\n",
      "   ---------------------------------------  375.9/376.0 MB 4.9 MB/s eta 0:00:01\n",
      "   ---------------------------------------  375.9/376.0 MB 4.9 MB/s eta 0:00:01\n",
      "   ---------------------------------------  375.9/376.0 MB 4.9 MB/s eta 0:00:01\n",
      "   ---------------------------------------  375.9/376.0 MB 4.9 MB/s eta 0:00:01\n",
      "   ---------------------------------------  375.9/376.0 MB 4.9 MB/s eta 0:00:01\n",
      "   ---------------------------------------  375.9/376.0 MB 4.9 MB/s eta 0:00:01\n",
      "   ---------------------------------------  375.9/376.0 MB 4.9 MB/s eta 0:00:01\n",
      "   ---------------------------------------  375.9/376.0 MB 4.9 MB/s eta 0:00:01\n",
      "   ---------------------------------------  375.9/376.0 MB 4.9 MB/s eta 0:00:01\n",
      "   ---------------------------------------  375.9/376.0 MB 4.9 MB/s eta 0:00:01\n",
      "   ---------------------------------------  375.9/376.0 MB 4.9 MB/s eta 0:00:01\n",
      "   ---------------------------------------  375.9/376.0 MB 4.9 MB/s eta 0:00:01\n",
      "   ---------------------------------------  375.9/376.0 MB 4.9 MB/s eta 0:00:01\n",
      "   ---------------------------------------  375.9/376.0 MB 4.9 MB/s eta 0:00:01\n",
      "   ---------------------------------------  375.9/376.0 MB 4.9 MB/s eta 0:00:01\n",
      "   ---------------------------------------  375.9/376.0 MB 4.9 MB/s eta 0:00:01\n",
      "   ---------------------------------------  375.9/376.0 MB 4.9 MB/s eta 0:00:01\n",
      "   ---------------------------------------  375.9/376.0 MB 4.9 MB/s eta 0:00:01\n",
      "   ---------------------------------------  375.9/376.0 MB 4.9 MB/s eta 0:00:01\n",
      "   ---------------------------------------  375.9/376.0 MB 4.9 MB/s eta 0:00:01\n",
      "   ---------------------------------------  375.9/376.0 MB 4.9 MB/s eta 0:00:01\n",
      "   ---------------------------------------  375.9/376.0 MB 4.9 MB/s eta 0:00:01\n",
      "   ---------------------------------------  375.9/376.0 MB 4.9 MB/s eta 0:00:01\n",
      "   ---------------------------------------  375.9/376.0 MB 4.9 MB/s eta 0:00:01\n",
      "   ---------------------------------------  375.9/376.0 MB 4.9 MB/s eta 0:00:01\n",
      "   ---------------------------------------  375.9/376.0 MB 4.9 MB/s eta 0:00:01\n",
      "   ---------------------------------------  375.9/376.0 MB 4.9 MB/s eta 0:00:01\n",
      "   ---------------------------------------  375.9/376.0 MB 4.9 MB/s eta 0:00:01\n",
      "   ---------------------------------------  375.9/376.0 MB 4.9 MB/s eta 0:00:01\n",
      "   ---------------------------------------  375.9/376.0 MB 4.9 MB/s eta 0:00:01\n",
      "   ---------------------------------------  375.9/376.0 MB 4.9 MB/s eta 0:00:01\n",
      "   ---------------------------------------  375.9/376.0 MB 4.9 MB/s eta 0:00:01\n",
      "   ---------------------------------------  375.9/376.0 MB 4.9 MB/s eta 0:00:01\n",
      "   ---------------------------------------  375.9/376.0 MB 4.9 MB/s eta 0:00:01\n",
      "   ---------------------------------------  375.9/376.0 MB 4.9 MB/s eta 0:00:01\n",
      "   ---------------------------------------  375.9/376.0 MB 4.9 MB/s eta 0:00:01\n",
      "   ---------------------------------------  375.9/376.0 MB 4.9 MB/s eta 0:00:01\n",
      "   ---------------------------------------  375.9/376.0 MB 4.9 MB/s eta 0:00:01\n",
      "   ---------------------------------------  375.9/376.0 MB 4.9 MB/s eta 0:00:01\n",
      "   ---------------------------------------  375.9/376.0 MB 4.9 MB/s eta 0:00:01\n",
      "   ---------------------------------------  375.9/376.0 MB 4.9 MB/s eta 0:00:01\n",
      "   ---------------------------------------  375.9/376.0 MB 4.9 MB/s eta 0:00:01\n",
      "   ---------------------------------------  375.9/376.0 MB 4.9 MB/s eta 0:00:01\n",
      "   ---------------------------------------  375.9/376.0 MB 4.9 MB/s eta 0:00:01\n",
      "   ---------------------------------------  375.9/376.0 MB 4.9 MB/s eta 0:00:01\n",
      "   ---------------------------------------  375.9/376.0 MB 4.9 MB/s eta 0:00:01\n",
      "   ---------------------------------------  375.9/376.0 MB 4.9 MB/s eta 0:00:01\n",
      "   ---------------------------------------  375.9/376.0 MB 4.9 MB/s eta 0:00:01\n",
      "   ---------------------------------------  375.9/376.0 MB 4.9 MB/s eta 0:00:01\n",
      "   ---------------------------------------  375.9/376.0 MB 4.9 MB/s eta 0:00:01\n",
      "   ---------------------------------------  375.9/376.0 MB 4.9 MB/s eta 0:00:01\n",
      "   ---------------------------------------- 376.0/376.0 MB 2.1 MB/s eta 0:00:00\n",
      "Downloading absl_py-2.1.0-py3-none-any.whl (133 kB)\n",
      "Downloading astunparse-1.6.3-py2.py3-none-any.whl (12 kB)\n",
      "Downloading flatbuffers-25.2.10-py2.py3-none-any.whl (30 kB)\n",
      "Downloading gast-0.6.0-py3-none-any.whl (21 kB)\n",
      "Downloading google_pasta-0.2.0-py3-none-any.whl (57 kB)\n",
      "Downloading grpcio-1.71.0-cp312-cp312-win_amd64.whl (4.3 MB)\n",
      "   ---------------------------------------- 0.0/4.3 MB ? eta -:--:--\n",
      "   ---- ----------------------------------- 0.5/4.3 MB 8.5 MB/s eta 0:00:01\n",
      "   -------------- ------------------------- 1.6/4.3 MB 3.5 MB/s eta 0:00:01\n",
      "   -------------------------- ------------- 2.9/4.3 MB 4.7 MB/s eta 0:00:01\n",
      "   ---------------------------------------  4.2/4.3 MB 4.9 MB/s eta 0:00:01\n",
      "   ---------------------------------------- 4.3/4.3 MB 4.8 MB/s eta 0:00:00\n",
      "Downloading h5py-3.13.0-cp312-cp312-win_amd64.whl (3.0 MB)\n",
      "   ---------------------------------------- 0.0/3.0 MB ? eta -:--:--\n",
      "   ---------- ----------------------------- 0.8/3.0 MB 4.2 MB/s eta 0:00:01\n",
      "   --------------------- ------------------ 1.6/3.0 MB 3.5 MB/s eta 0:00:01\n",
      "   ----------------------------------- ---- 2.6/3.0 MB 4.2 MB/s eta 0:00:01\n",
      "   ---------------------------------------- 3.0/3.0 MB 4.3 MB/s eta 0:00:00\n",
      "Downloading keras-3.9.0-py3-none-any.whl (1.3 MB)\n",
      "   ---------------------------------------- 0.0/1.3 MB ? eta -:--:--\n",
      "   ------------------------------- -------- 1.0/1.3 MB 5.0 MB/s eta 0:00:01\n",
      "   ---------------------------------------- 1.3/1.3 MB 4.9 MB/s eta 0:00:00\n",
      "Downloading libclang-18.1.1-py2.py3-none-win_amd64.whl (26.4 MB)\n",
      "   ---------------------------------------- 0.0/26.4 MB ? eta -:--:--\n",
      "   - -------------------------------------- 1.3/26.4 MB 5.6 MB/s eta 0:00:05\n",
      "   --- ------------------------------------ 2.4/26.4 MB 5.4 MB/s eta 0:00:05\n",
      "   ----- ---------------------------------- 3.7/26.4 MB 5.7 MB/s eta 0:00:04\n",
      "   ------- -------------------------------- 5.0/26.4 MB 5.7 MB/s eta 0:00:04\n",
      "   --------- ------------------------------ 6.0/26.4 MB 5.4 MB/s eta 0:00:04\n",
      "   ---------- ----------------------------- 7.1/26.4 MB 5.5 MB/s eta 0:00:04\n",
      "   ------------ --------------------------- 8.4/26.4 MB 5.6 MB/s eta 0:00:04\n",
      "   -------------- ------------------------- 9.4/26.4 MB 5.4 MB/s eta 0:00:04\n",
      "   -------------- ------------------------- 9.7/26.4 MB 5.2 MB/s eta 0:00:04\n",
      "   ---------------- ----------------------- 10.7/26.4 MB 5.0 MB/s eta 0:00:04\n",
      "   ------------------ --------------------- 12.1/26.4 MB 5.1 MB/s eta 0:00:03\n",
      "   -------------------- ------------------- 13.4/26.4 MB 5.2 MB/s eta 0:00:03\n",
      "   ---------------------- ----------------- 14.9/26.4 MB 5.4 MB/s eta 0:00:03\n",
      "   ------------------------ --------------- 16.3/26.4 MB 5.4 MB/s eta 0:00:02\n",
      "   -------------------------- ------------- 17.6/26.4 MB 5.5 MB/s eta 0:00:02\n",
      "   --------------------------- ------------ 18.4/26.4 MB 5.4 MB/s eta 0:00:02\n",
      "   ---------------------------- ----------- 19.1/26.4 MB 5.3 MB/s eta 0:00:02\n",
      "   ------------------------------ --------- 19.9/26.4 MB 5.2 MB/s eta 0:00:02\n",
      "   ------------------------------- -------- 21.0/26.4 MB 5.2 MB/s eta 0:00:02\n",
      "   -------------------------------- ------- 21.2/26.4 MB 5.1 MB/s eta 0:00:02\n",
      "   --------------------------------- ------ 22.0/26.4 MB 5.0 MB/s eta 0:00:01\n",
      "   ---------------------------------- ----- 22.5/26.4 MB 4.9 MB/s eta 0:00:01\n",
      "   ----------------------------------- ---- 23.6/26.4 MB 4.8 MB/s eta 0:00:01\n",
      "   ------------------------------------ --- 24.4/26.4 MB 4.8 MB/s eta 0:00:01\n",
      "   -------------------------------------- - 25.7/26.4 MB 4.9 MB/s eta 0:00:01\n",
      "   ---------------------------------------- 26.4/26.4 MB 4.8 MB/s eta 0:00:00\n",
      "Downloading ml_dtypes-0.5.1-cp312-cp312-win_amd64.whl (210 kB)\n",
      "Downloading numpy-2.1.3-cp312-cp312-win_amd64.whl (12.6 MB)\n",
      "   ---------------------------------------- 0.0/12.6 MB ? eta -:--:--\n",
      "   - -------------------------------------- 0.5/12.6 MB 5.6 MB/s eta 0:00:03\n",
      "   ---- ----------------------------------- 1.3/12.6 MB 3.4 MB/s eta 0:00:04\n",
      "   ------ --------------------------------- 2.1/12.6 MB 3.6 MB/s eta 0:00:03\n",
      "   ---------- ----------------------------- 3.1/12.6 MB 3.9 MB/s eta 0:00:03\n",
      "   -------------- ------------------------- 4.5/12.6 MB 4.3 MB/s eta 0:00:02\n",
      "   ----------------- ---------------------- 5.5/12.6 MB 4.5 MB/s eta 0:00:02\n",
      "   -------------------- ------------------- 6.6/12.6 MB 4.6 MB/s eta 0:00:02\n",
      "   ----------------------- ---------------- 7.3/12.6 MB 4.5 MB/s eta 0:00:02\n",
      "   ------------------------- -------------- 8.1/12.6 MB 4.4 MB/s eta 0:00:02\n",
      "   -------------------------- ------------- 8.4/12.6 MB 4.3 MB/s eta 0:00:01\n",
      "   ------------------------------ --------- 9.7/12.6 MB 4.2 MB/s eta 0:00:01\n",
      "   ---------------------------------- ----- 10.7/12.6 MB 4.4 MB/s eta 0:00:01\n",
      "   ------------------------------------- -- 11.8/12.6 MB 4.4 MB/s eta 0:00:01\n",
      "   ---------------------------------------- 12.6/12.6 MB 4.4 MB/s eta 0:00:00\n",
      "Downloading opt_einsum-3.4.0-py3-none-any.whl (71 kB)\n",
      "Downloading tensorboard-2.19.0-py3-none-any.whl (5.5 MB)\n",
      "   ---------------------------------------- 0.0/5.5 MB ? eta -:--:--\n",
      "   --- ------------------------------------ 0.5/5.5 MB 2.4 MB/s eta 0:00:03\n",
      "   ------- -------------------------------- 1.0/5.5 MB 2.5 MB/s eta 0:00:02\n",
      "   ----------------- ---------------------- 2.4/5.5 MB 3.9 MB/s eta 0:00:01\n",
      "   ------------------------ --------------- 3.4/5.5 MB 4.2 MB/s eta 0:00:01\n",
      "   ------------------------------------ --- 5.0/5.5 MB 4.7 MB/s eta 0:00:01\n",
      "   ---------------------------------------- 5.5/5.5 MB 4.9 MB/s eta 0:00:00\n",
      "Downloading termcolor-2.5.0-py3-none-any.whl (7.8 kB)\n",
      "Downloading tensorboard_data_server-0.7.2-py3-none-any.whl (2.4 kB)\n",
      "Downloading wheel-0.45.1-py3-none-any.whl (72 kB)\n",
      "Downloading namex-0.0.8-py3-none-any.whl (5.8 kB)\n",
      "Downloading optree-0.14.1-cp312-cp312-win_amd64.whl (306 kB)\n",
      "Downloading rich-13.9.4-py3-none-any.whl (242 kB)\n",
      "Downloading markdown_it_py-3.0.0-py3-none-any.whl (87 kB)\n",
      "Downloading mdurl-0.1.2-py3-none-any.whl (10.0 kB)\n",
      "Installing collected packages: namex, libclang, flatbuffers, wheel, termcolor, tensorboard-data-server, optree, opt-einsum, numpy, mdurl, grpcio, google-pasta, gast, absl-py, tensorboard, ml-dtypes, markdown-it-py, h5py, astunparse, rich, keras, tensorflow\n",
      "  Attempting uninstall: numpy\n",
      "    Found existing installation: numpy 2.2.2\n",
      "    Uninstalling numpy-2.2.2:\n",
      "      Successfully uninstalled numpy-2.2.2\n",
      "Successfully installed absl-py-2.1.0 astunparse-1.6.3 flatbuffers-25.2.10 gast-0.6.0 google-pasta-0.2.0 grpcio-1.71.0 h5py-3.13.0 keras-3.9.0 libclang-18.1.1 markdown-it-py-3.0.0 mdurl-0.1.2 ml-dtypes-0.5.1 namex-0.0.8 numpy-2.1.3 opt-einsum-3.4.0 optree-0.14.1 rich-13.9.4 tensorboard-2.19.0 tensorboard-data-server-0.7.2 tensorflow-2.19.0 termcolor-2.5.0 wheel-0.45.1\n",
      "Note: you may need to restart the kernel to use updated packages.\n"
     ]
    },
    {
     "name": "stderr",
     "output_type": "stream",
     "text": [
      "  WARNING: Failed to remove contents in a temporary directory 'C:\\Users\\user\\AppData\\Local\\Programs\\Python\\Python312\\Lib\\site-packages\\~umpy.libs'.\n",
      "  You can safely remove it manually.\n",
      "  WARNING: Failed to remove contents in a temporary directory 'C:\\Users\\user\\AppData\\Local\\Programs\\Python\\Python312\\Lib\\site-packages\\~umpy'.\n",
      "  You can safely remove it manually.\n",
      "\n",
      "[notice] A new release of pip is available: 24.2 -> 25.0.1\n",
      "[notice] To update, run: python.exe -m pip install --upgrade pip\n"
     ]
    }
   ],
   "source": [
    "pip install tensorflow\n"
   ]
  },
  {
   "cell_type": "code",
   "execution_count": null,
   "id": "f9d5b83c-4156-4130-9377-f8a25ddcdf34",
   "metadata": {},
   "outputs": [],
   "source": []
  }
 ],
 "metadata": {
  "kernelspec": {
   "display_name": "Python 3 (ipykernel)",
   "language": "python",
   "name": "python3"
  },
  "language_info": {
   "codemirror_mode": {
    "name": "ipython",
    "version": 3
   },
   "file_extension": ".py",
   "mimetype": "text/x-python",
   "name": "python",
   "nbconvert_exporter": "python",
   "pygments_lexer": "ipython3",
   "version": "3.12.6"
  }
 },
 "nbformat": 4,
 "nbformat_minor": 5
}
